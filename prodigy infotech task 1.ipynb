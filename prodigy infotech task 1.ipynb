{
 "cells": [
  {
   "cell_type": "markdown",
   "id": "6aff3094",
   "metadata": {},
   "source": [
    "\n",
    "# data gathering"
   ]
  },
  {
   "cell_type": "code",
   "execution_count": 1,
   "id": "cca6ae89",
   "metadata": {},
   "outputs": [],
   "source": [
    "import numpy as np\n",
    "import pandas as pd \n",
    "import matplotlib.pyplot as plt\n",
    "import seaborn as sns"
   ]
  },
  {
   "cell_type": "code",
   "execution_count": 7,
   "id": "c58d5613",
   "metadata": {},
   "outputs": [
    {
     "data": {
      "text/html": [
       "<div>\n",
       "<style scoped>\n",
       "    .dataframe tbody tr th:only-of-type {\n",
       "        vertical-align: middle;\n",
       "    }\n",
       "\n",
       "    .dataframe tbody tr th {\n",
       "        vertical-align: top;\n",
       "    }\n",
       "\n",
       "    .dataframe thead th {\n",
       "        text-align: right;\n",
       "    }\n",
       "</style>\n",
       "<table border=\"1\" class=\"dataframe\">\n",
       "  <thead>\n",
       "    <tr style=\"text-align: right;\">\n",
       "      <th></th>\n",
       "      <th>Living Area</th>\n",
       "      <th>Bathrooms</th>\n",
       "      <th>Bedrooms</th>\n",
       "      <th>Lot Size</th>\n",
       "      <th>Age</th>\n",
       "      <th>Fireplace</th>\n",
       "      <th>Price</th>\n",
       "    </tr>\n",
       "  </thead>\n",
       "  <tbody>\n",
       "    <tr>\n",
       "      <th>0</th>\n",
       "      <td>1.982</td>\n",
       "      <td>1.0</td>\n",
       "      <td>3</td>\n",
       "      <td>2.00</td>\n",
       "      <td>133</td>\n",
       "      <td>0</td>\n",
       "      <td>14.2212</td>\n",
       "    </tr>\n",
       "    <tr>\n",
       "      <th>1</th>\n",
       "      <td>1.676</td>\n",
       "      <td>1.5</td>\n",
       "      <td>3</td>\n",
       "      <td>0.38</td>\n",
       "      <td>14</td>\n",
       "      <td>1</td>\n",
       "      <td>13.4865</td>\n",
       "    </tr>\n",
       "    <tr>\n",
       "      <th>2</th>\n",
       "      <td>1.694</td>\n",
       "      <td>2.0</td>\n",
       "      <td>3</td>\n",
       "      <td>0.96</td>\n",
       "      <td>15</td>\n",
       "      <td>1</td>\n",
       "      <td>11.8007</td>\n",
       "    </tr>\n",
       "    <tr>\n",
       "      <th>3</th>\n",
       "      <td>1.800</td>\n",
       "      <td>1.0</td>\n",
       "      <td>2</td>\n",
       "      <td>0.48</td>\n",
       "      <td>49</td>\n",
       "      <td>1</td>\n",
       "      <td>13.8297</td>\n",
       "    </tr>\n",
       "    <tr>\n",
       "      <th>4</th>\n",
       "      <td>2.088</td>\n",
       "      <td>1.0</td>\n",
       "      <td>3</td>\n",
       "      <td>1.84</td>\n",
       "      <td>29</td>\n",
       "      <td>1</td>\n",
       "      <td>12.9470</td>\n",
       "    </tr>\n",
       "    <tr>\n",
       "      <th>...</th>\n",
       "      <td>...</td>\n",
       "      <td>...</td>\n",
       "      <td>...</td>\n",
       "      <td>...</td>\n",
       "      <td>...</td>\n",
       "      <td>...</td>\n",
       "      <td>...</td>\n",
       "    </tr>\n",
       "    <tr>\n",
       "      <th>1042</th>\n",
       "      <td>1.802</td>\n",
       "      <td>2.0</td>\n",
       "      <td>4</td>\n",
       "      <td>0.97</td>\n",
       "      <td>56</td>\n",
       "      <td>1</td>\n",
       "      <td>10.7695</td>\n",
       "    </tr>\n",
       "    <tr>\n",
       "      <th>1043</th>\n",
       "      <td>3.239</td>\n",
       "      <td>3.5</td>\n",
       "      <td>4</td>\n",
       "      <td>2.50</td>\n",
       "      <td>1</td>\n",
       "      <td>1</td>\n",
       "      <td>23.6737</td>\n",
       "    </tr>\n",
       "    <tr>\n",
       "      <th>1044</th>\n",
       "      <td>1.440</td>\n",
       "      <td>2.0</td>\n",
       "      <td>2</td>\n",
       "      <td>0.61</td>\n",
       "      <td>66</td>\n",
       "      <td>1</td>\n",
       "      <td>15.4829</td>\n",
       "    </tr>\n",
       "    <tr>\n",
       "      <th>1045</th>\n",
       "      <td>2.030</td>\n",
       "      <td>2.5</td>\n",
       "      <td>3</td>\n",
       "      <td>1.00</td>\n",
       "      <td>3</td>\n",
       "      <td>1</td>\n",
       "      <td>17.9492</td>\n",
       "    </tr>\n",
       "    <tr>\n",
       "      <th>1046</th>\n",
       "      <td>2.097</td>\n",
       "      <td>2.5</td>\n",
       "      <td>3</td>\n",
       "      <td>1.93</td>\n",
       "      <td>10</td>\n",
       "      <td>1</td>\n",
       "      <td>18.9108</td>\n",
       "    </tr>\n",
       "  </tbody>\n",
       "</table>\n",
       "<p>1047 rows × 7 columns</p>\n",
       "</div>"
      ],
      "text/plain": [
       "      Living Area  Bathrooms  Bedrooms  Lot Size  Age  Fireplace    Price\n",
       "0           1.982        1.0         3      2.00  133          0  14.2212\n",
       "1           1.676        1.5         3      0.38   14          1  13.4865\n",
       "2           1.694        2.0         3      0.96   15          1  11.8007\n",
       "3           1.800        1.0         2      0.48   49          1  13.8297\n",
       "4           2.088        1.0         3      1.84   29          1  12.9470\n",
       "...           ...        ...       ...       ...  ...        ...      ...\n",
       "1042        1.802        2.0         4      0.97   56          1  10.7695\n",
       "1043        3.239        3.5         4      2.50    1          1  23.6737\n",
       "1044        1.440        2.0         2      0.61   66          1  15.4829\n",
       "1045        2.030        2.5         3      1.00    3          1  17.9492\n",
       "1046        2.097        2.5         3      1.93   10          1  18.9108\n",
       "\n",
       "[1047 rows x 7 columns]"
      ]
     },
     "execution_count": 7,
     "metadata": {},
     "output_type": "execute_result"
    }
   ],
   "source": [
    "df=pd.read_csv(\"C:\\\\Users\\\\hp\\\\Desktop\\\\linear regression\\\\prodigy infotech\\\\houseprice.csv\")\n",
    "df #to print dataset"
   ]
  },
  {
   "cell_type": "markdown",
   "id": "69c57021",
   "metadata": {},
   "source": [
    "# data preprocessing and insights"
   ]
  },
  {
   "cell_type": "code",
   "execution_count": 6,
   "id": "324bc81d",
   "metadata": {},
   "outputs": [
    {
     "data": {
      "text/html": [
       "<div>\n",
       "<style scoped>\n",
       "    .dataframe tbody tr th:only-of-type {\n",
       "        vertical-align: middle;\n",
       "    }\n",
       "\n",
       "    .dataframe tbody tr th {\n",
       "        vertical-align: top;\n",
       "    }\n",
       "\n",
       "    .dataframe thead th {\n",
       "        text-align: right;\n",
       "    }\n",
       "</style>\n",
       "<table border=\"1\" class=\"dataframe\">\n",
       "  <thead>\n",
       "    <tr style=\"text-align: right;\">\n",
       "      <th></th>\n",
       "      <th>Living Area</th>\n",
       "      <th>Bathrooms</th>\n",
       "      <th>Bedrooms</th>\n",
       "      <th>Lot Size</th>\n",
       "      <th>Age</th>\n",
       "      <th>Fireplace</th>\n",
       "      <th>Price</th>\n",
       "    </tr>\n",
       "  </thead>\n",
       "  <tbody>\n",
       "    <tr>\n",
       "      <th>0</th>\n",
       "      <td>1.982</td>\n",
       "      <td>1.0</td>\n",
       "      <td>3</td>\n",
       "      <td>2.00</td>\n",
       "      <td>133</td>\n",
       "      <td>0</td>\n",
       "      <td>14.2212</td>\n",
       "    </tr>\n",
       "    <tr>\n",
       "      <th>1</th>\n",
       "      <td>1.676</td>\n",
       "      <td>1.5</td>\n",
       "      <td>3</td>\n",
       "      <td>0.38</td>\n",
       "      <td>14</td>\n",
       "      <td>1</td>\n",
       "      <td>13.4865</td>\n",
       "    </tr>\n",
       "    <tr>\n",
       "      <th>2</th>\n",
       "      <td>1.694</td>\n",
       "      <td>2.0</td>\n",
       "      <td>3</td>\n",
       "      <td>0.96</td>\n",
       "      <td>15</td>\n",
       "      <td>1</td>\n",
       "      <td>11.8007</td>\n",
       "    </tr>\n",
       "    <tr>\n",
       "      <th>3</th>\n",
       "      <td>1.800</td>\n",
       "      <td>1.0</td>\n",
       "      <td>2</td>\n",
       "      <td>0.48</td>\n",
       "      <td>49</td>\n",
       "      <td>1</td>\n",
       "      <td>13.8297</td>\n",
       "    </tr>\n",
       "    <tr>\n",
       "      <th>4</th>\n",
       "      <td>2.088</td>\n",
       "      <td>1.0</td>\n",
       "      <td>3</td>\n",
       "      <td>1.84</td>\n",
       "      <td>29</td>\n",
       "      <td>1</td>\n",
       "      <td>12.9470</td>\n",
       "    </tr>\n",
       "  </tbody>\n",
       "</table>\n",
       "</div>"
      ],
      "text/plain": [
       "   Living Area  Bathrooms  Bedrooms  Lot Size  Age  Fireplace    Price\n",
       "0        1.982        1.0         3      2.00  133          0  14.2212\n",
       "1        1.676        1.5         3      0.38   14          1  13.4865\n",
       "2        1.694        2.0         3      0.96   15          1  11.8007\n",
       "3        1.800        1.0         2      0.48   49          1  13.8297\n",
       "4        2.088        1.0         3      1.84   29          1  12.9470"
      ]
     },
     "execution_count": 6,
     "metadata": {},
     "output_type": "execute_result"
    }
   ],
   "source": [
    "df.head()#to print first 5 entries of data"
   ]
  },
  {
   "cell_type": "code",
   "execution_count": 8,
   "id": "353e9c4a",
   "metadata": {},
   "outputs": [
    {
     "data": {
      "text/html": [
       "<div>\n",
       "<style scoped>\n",
       "    .dataframe tbody tr th:only-of-type {\n",
       "        vertical-align: middle;\n",
       "    }\n",
       "\n",
       "    .dataframe tbody tr th {\n",
       "        vertical-align: top;\n",
       "    }\n",
       "\n",
       "    .dataframe thead th {\n",
       "        text-align: right;\n",
       "    }\n",
       "</style>\n",
       "<table border=\"1\" class=\"dataframe\">\n",
       "  <thead>\n",
       "    <tr style=\"text-align: right;\">\n",
       "      <th></th>\n",
       "      <th>Living Area</th>\n",
       "      <th>Bathrooms</th>\n",
       "      <th>Bedrooms</th>\n",
       "      <th>Lot Size</th>\n",
       "      <th>Age</th>\n",
       "      <th>Fireplace</th>\n",
       "      <th>Price</th>\n",
       "    </tr>\n",
       "  </thead>\n",
       "  <tbody>\n",
       "    <tr>\n",
       "      <th>1042</th>\n",
       "      <td>1.802</td>\n",
       "      <td>2.0</td>\n",
       "      <td>4</td>\n",
       "      <td>0.97</td>\n",
       "      <td>56</td>\n",
       "      <td>1</td>\n",
       "      <td>10.7695</td>\n",
       "    </tr>\n",
       "    <tr>\n",
       "      <th>1043</th>\n",
       "      <td>3.239</td>\n",
       "      <td>3.5</td>\n",
       "      <td>4</td>\n",
       "      <td>2.50</td>\n",
       "      <td>1</td>\n",
       "      <td>1</td>\n",
       "      <td>23.6737</td>\n",
       "    </tr>\n",
       "    <tr>\n",
       "      <th>1044</th>\n",
       "      <td>1.440</td>\n",
       "      <td>2.0</td>\n",
       "      <td>2</td>\n",
       "      <td>0.61</td>\n",
       "      <td>66</td>\n",
       "      <td>1</td>\n",
       "      <td>15.4829</td>\n",
       "    </tr>\n",
       "    <tr>\n",
       "      <th>1045</th>\n",
       "      <td>2.030</td>\n",
       "      <td>2.5</td>\n",
       "      <td>3</td>\n",
       "      <td>1.00</td>\n",
       "      <td>3</td>\n",
       "      <td>1</td>\n",
       "      <td>17.9492</td>\n",
       "    </tr>\n",
       "    <tr>\n",
       "      <th>1046</th>\n",
       "      <td>2.097</td>\n",
       "      <td>2.5</td>\n",
       "      <td>3</td>\n",
       "      <td>1.93</td>\n",
       "      <td>10</td>\n",
       "      <td>1</td>\n",
       "      <td>18.9108</td>\n",
       "    </tr>\n",
       "  </tbody>\n",
       "</table>\n",
       "</div>"
      ],
      "text/plain": [
       "      Living Area  Bathrooms  Bedrooms  Lot Size  Age  Fireplace    Price\n",
       "1042        1.802        2.0         4      0.97   56          1  10.7695\n",
       "1043        3.239        3.5         4      2.50    1          1  23.6737\n",
       "1044        1.440        2.0         2      0.61   66          1  15.4829\n",
       "1045        2.030        2.5         3      1.00    3          1  17.9492\n",
       "1046        2.097        2.5         3      1.93   10          1  18.9108"
      ]
     },
     "execution_count": 8,
     "metadata": {},
     "output_type": "execute_result"
    }
   ],
   "source": [
    "df.tail() #to print last 5 entries of data"
   ]
  },
  {
   "cell_type": "code",
   "execution_count": 9,
   "id": "04ca9525",
   "metadata": {},
   "outputs": [
    {
     "data": {
      "text/plain": [
       "(1047, 7)"
      ]
     },
     "execution_count": 9,
     "metadata": {},
     "output_type": "execute_result"
    }
   ],
   "source": [
    "df.shape #to check no of rows and columns in the dataset"
   ]
  },
  {
   "cell_type": "code",
   "execution_count": 10,
   "id": "c95cd7d3",
   "metadata": {},
   "outputs": [
    {
     "data": {
      "text/plain": [
       "Living Area    0\n",
       "Bathrooms      0\n",
       "Bedrooms       0\n",
       "Lot Size       0\n",
       "Age            0\n",
       "Fireplace      0\n",
       "Price          0\n",
       "dtype: int64"
      ]
     },
     "execution_count": 10,
     "metadata": {},
     "output_type": "execute_result"
    }
   ],
   "source": [
    "df.isnull().sum() #to check if any null value present or not"
   ]
  },
  {
   "cell_type": "code",
   "execution_count": 11,
   "id": "91a57d64",
   "metadata": {},
   "outputs": [
    {
     "data": {
      "text/html": [
       "<div>\n",
       "<style scoped>\n",
       "    .dataframe tbody tr th:only-of-type {\n",
       "        vertical-align: middle;\n",
       "    }\n",
       "\n",
       "    .dataframe tbody tr th {\n",
       "        vertical-align: top;\n",
       "    }\n",
       "\n",
       "    .dataframe thead th {\n",
       "        text-align: right;\n",
       "    }\n",
       "</style>\n",
       "<table border=\"1\" class=\"dataframe\">\n",
       "  <thead>\n",
       "    <tr style=\"text-align: right;\">\n",
       "      <th></th>\n",
       "      <th>Living Area</th>\n",
       "      <th>Bathrooms</th>\n",
       "      <th>Bedrooms</th>\n",
       "      <th>Lot Size</th>\n",
       "      <th>Age</th>\n",
       "      <th>Fireplace</th>\n",
       "      <th>Price</th>\n",
       "    </tr>\n",
       "  </thead>\n",
       "  <tbody>\n",
       "    <tr>\n",
       "      <th>count</th>\n",
       "      <td>1047.000000</td>\n",
       "      <td>1047.000000</td>\n",
       "      <td>1047.000000</td>\n",
       "      <td>1047.000000</td>\n",
       "      <td>1047.000000</td>\n",
       "      <td>1047.000000</td>\n",
       "      <td>1047.000000</td>\n",
       "    </tr>\n",
       "    <tr>\n",
       "      <th>mean</th>\n",
       "      <td>1.807303</td>\n",
       "      <td>1.918338</td>\n",
       "      <td>3.183381</td>\n",
       "      <td>0.569580</td>\n",
       "      <td>28.061127</td>\n",
       "      <td>0.593123</td>\n",
       "      <td>16.386213</td>\n",
       "    </tr>\n",
       "    <tr>\n",
       "      <th>std</th>\n",
       "      <td>0.641461</td>\n",
       "      <td>0.641735</td>\n",
       "      <td>0.750265</td>\n",
       "      <td>0.777879</td>\n",
       "      <td>34.900899</td>\n",
       "      <td>0.491486</td>\n",
       "      <td>6.765156</td>\n",
       "    </tr>\n",
       "    <tr>\n",
       "      <th>min</th>\n",
       "      <td>0.672000</td>\n",
       "      <td>1.000000</td>\n",
       "      <td>1.000000</td>\n",
       "      <td>0.000000</td>\n",
       "      <td>0.000000</td>\n",
       "      <td>0.000000</td>\n",
       "      <td>1.685800</td>\n",
       "    </tr>\n",
       "    <tr>\n",
       "      <th>25%</th>\n",
       "      <td>1.336000</td>\n",
       "      <td>1.500000</td>\n",
       "      <td>3.000000</td>\n",
       "      <td>0.210000</td>\n",
       "      <td>6.000000</td>\n",
       "      <td>0.000000</td>\n",
       "      <td>11.201400</td>\n",
       "    </tr>\n",
       "    <tr>\n",
       "      <th>50%</th>\n",
       "      <td>1.672000</td>\n",
       "      <td>2.000000</td>\n",
       "      <td>3.000000</td>\n",
       "      <td>0.390000</td>\n",
       "      <td>18.000000</td>\n",
       "      <td>1.000000</td>\n",
       "      <td>15.191700</td>\n",
       "    </tr>\n",
       "    <tr>\n",
       "      <th>75%</th>\n",
       "      <td>2.206000</td>\n",
       "      <td>2.500000</td>\n",
       "      <td>4.000000</td>\n",
       "      <td>0.600000</td>\n",
       "      <td>34.000000</td>\n",
       "      <td>1.000000</td>\n",
       "      <td>20.523500</td>\n",
       "    </tr>\n",
       "    <tr>\n",
       "      <th>max</th>\n",
       "      <td>4.534000</td>\n",
       "      <td>4.500000</td>\n",
       "      <td>6.000000</td>\n",
       "      <td>9.000000</td>\n",
       "      <td>247.000000</td>\n",
       "      <td>1.000000</td>\n",
       "      <td>44.643600</td>\n",
       "    </tr>\n",
       "  </tbody>\n",
       "</table>\n",
       "</div>"
      ],
      "text/plain": [
       "       Living Area    Bathrooms     Bedrooms     Lot Size          Age  \\\n",
       "count  1047.000000  1047.000000  1047.000000  1047.000000  1047.000000   \n",
       "mean      1.807303     1.918338     3.183381     0.569580    28.061127   \n",
       "std       0.641461     0.641735     0.750265     0.777879    34.900899   \n",
       "min       0.672000     1.000000     1.000000     0.000000     0.000000   \n",
       "25%       1.336000     1.500000     3.000000     0.210000     6.000000   \n",
       "50%       1.672000     2.000000     3.000000     0.390000    18.000000   \n",
       "75%       2.206000     2.500000     4.000000     0.600000    34.000000   \n",
       "max       4.534000     4.500000     6.000000     9.000000   247.000000   \n",
       "\n",
       "         Fireplace        Price  \n",
       "count  1047.000000  1047.000000  \n",
       "mean      0.593123    16.386213  \n",
       "std       0.491486     6.765156  \n",
       "min       0.000000     1.685800  \n",
       "25%       0.000000    11.201400  \n",
       "50%       1.000000    15.191700  \n",
       "75%       1.000000    20.523500  \n",
       "max       1.000000    44.643600  "
      ]
     },
     "execution_count": 11,
     "metadata": {},
     "output_type": "execute_result"
    }
   ],
   "source": [
    "df.describe(include='all') #to check basic mathematical description of the data"
   ]
  },
  {
   "cell_type": "code",
   "execution_count": 13,
   "id": "9edcfa90",
   "metadata": {},
   "outputs": [
    {
     "name": "stdout",
     "output_type": "stream",
     "text": [
      "<class 'pandas.core.frame.DataFrame'>\n",
      "RangeIndex: 1047 entries, 0 to 1046\n",
      "Data columns (total 7 columns):\n",
      " #   Column       Non-Null Count  Dtype  \n",
      "---  ------       --------------  -----  \n",
      " 0   Living Area  1047 non-null   float64\n",
      " 1   Bathrooms    1047 non-null   float64\n",
      " 2   Bedrooms     1047 non-null   int64  \n",
      " 3   Lot Size     1047 non-null   float64\n",
      " 4   Age          1047 non-null   int64  \n",
      " 5   Fireplace    1047 non-null   int64  \n",
      " 6   Price        1047 non-null   float64\n",
      "dtypes: float64(4), int64(3)\n",
      "memory usage: 57.4 KB\n"
     ]
    }
   ],
   "source": [
    "df.info() #to check basic information of the data like datatype "
   ]
  },
  {
   "cell_type": "code",
   "execution_count": 15,
   "id": "787505d0",
   "metadata": {},
   "outputs": [],
   "source": [
    "a=df.corr()#to check any relation betweeen different columns"
   ]
  },
  {
   "cell_type": "code",
   "execution_count": 19,
   "id": "aecfaaef",
   "metadata": {},
   "outputs": [
    {
     "data": {
      "text/plain": [
       "<AxesSubplot:>"
      ]
     },
     "execution_count": 19,
     "metadata": {},
     "output_type": "execute_result"
    },
    {
     "data": {
      "image/png": "[encoded data removed]",
      "text/plain": [
       "<Figure size 1000x1000 with 2 Axes>"
      ]
     },
     "metadata": {},
     "output_type": "display_data"
    }
   ],
   "source": [
    "plt.figure(figsize=(10,10),facecolor='yellow',edgecolor='red')\n",
    "sns.heatmap(a,linewidths=0.2,linecolor='black',cmap=\"YlGnBu\",annot=True)"
   ]
  },
  {
   "cell_type": "markdown",
   "id": "5d883180",
   "metadata": {},
   "source": [
    "# EDA"
   ]
  },
  {
   "cell_type": "code",
   "execution_count": 20,
   "id": "f226a4fb",
   "metadata": {
    "scrolled": true
   },
   "outputs": [
    {
     "data": {
      "text/html": [
       "<div>\n",
       "<style scoped>\n",
       "    .dataframe tbody tr th:only-of-type {\n",
       "        vertical-align: middle;\n",
       "    }\n",
       "\n",
       "    .dataframe tbody tr th {\n",
       "        vertical-align: top;\n",
       "    }\n",
       "\n",
       "    .dataframe thead th {\n",
       "        text-align: right;\n",
       "    }\n",
       "</style>\n",
       "<table border=\"1\" class=\"dataframe\">\n",
       "  <thead>\n",
       "    <tr style=\"text-align: right;\">\n",
       "      <th></th>\n",
       "      <th>Living Area</th>\n",
       "      <th>Bathrooms</th>\n",
       "      <th>Bedrooms</th>\n",
       "      <th>Lot Size</th>\n",
       "      <th>Age</th>\n",
       "      <th>Fireplace</th>\n",
       "      <th>Price</th>\n",
       "    </tr>\n",
       "  </thead>\n",
       "  <tbody>\n",
       "    <tr>\n",
       "      <th>0</th>\n",
       "      <td>1.982</td>\n",
       "      <td>1.0</td>\n",
       "      <td>3</td>\n",
       "      <td>2.00</td>\n",
       "      <td>133</td>\n",
       "      <td>0</td>\n",
       "      <td>14.2212</td>\n",
       "    </tr>\n",
       "    <tr>\n",
       "      <th>1</th>\n",
       "      <td>1.676</td>\n",
       "      <td>1.5</td>\n",
       "      <td>3</td>\n",
       "      <td>0.38</td>\n",
       "      <td>14</td>\n",
       "      <td>1</td>\n",
       "      <td>13.4865</td>\n",
       "    </tr>\n",
       "    <tr>\n",
       "      <th>2</th>\n",
       "      <td>1.694</td>\n",
       "      <td>2.0</td>\n",
       "      <td>3</td>\n",
       "      <td>0.96</td>\n",
       "      <td>15</td>\n",
       "      <td>1</td>\n",
       "      <td>11.8007</td>\n",
       "    </tr>\n",
       "    <tr>\n",
       "      <th>3</th>\n",
       "      <td>1.800</td>\n",
       "      <td>1.0</td>\n",
       "      <td>2</td>\n",
       "      <td>0.48</td>\n",
       "      <td>49</td>\n",
       "      <td>1</td>\n",
       "      <td>13.8297</td>\n",
       "    </tr>\n",
       "    <tr>\n",
       "      <th>4</th>\n",
       "      <td>2.088</td>\n",
       "      <td>1.0</td>\n",
       "      <td>3</td>\n",
       "      <td>1.84</td>\n",
       "      <td>29</td>\n",
       "      <td>1</td>\n",
       "      <td>12.9470</td>\n",
       "    </tr>\n",
       "  </tbody>\n",
       "</table>\n",
       "</div>"
      ],
      "text/plain": [
       "   Living Area  Bathrooms  Bedrooms  Lot Size  Age  Fireplace    Price\n",
       "0        1.982        1.0         3      2.00  133          0  14.2212\n",
       "1        1.676        1.5         3      0.38   14          1  13.4865\n",
       "2        1.694        2.0         3      0.96   15          1  11.8007\n",
       "3        1.800        1.0         2      0.48   49          1  13.8297\n",
       "4        2.088        1.0         3      1.84   29          1  12.9470"
      ]
     },
     "execution_count": 20,
     "metadata": {},
     "output_type": "execute_result"
    }
   ],
   "source": [
    "df.head()"
   ]
  },
  {
   "cell_type": "markdown",
   "id": "0451a784",
   "metadata": {},
   "source": [
    "bathrooms vs price"
   ]
  },
  {
   "cell_type": "code",
   "execution_count": 34,
   "id": "2901540c",
   "metadata": {},
   "outputs": [
    {
     "data": {
      "image/png": "[encoded data removed]",
      "text/plain": [
       "<Figure size 1000x1000 with 1 Axes>"
      ]
     },
     "metadata": {},
     "output_type": "display_data"
    }
   ],
   "source": [
    "#bedrooms count\n",
    "plt.figure(figsize=(10,10),facecolor='pink',edgecolor='red')\n",
    "x=df['Bathrooms']\n",
    "y=df['Price']\n",
    "a=sns.barplot(x=df['Bathrooms'],y=df['Price'],data=df,errcolor='.26')\n",
    "for ax in a.containers:\n",
    "    a.bar_label(ax)\n",
    "#four bathrooms house price is more costly compared to 1 house price"
   ]
  },
  {
   "cell_type": "markdown",
   "id": "57f46afe",
   "metadata": {},
   "source": [
    "bedroom count"
   ]
  },
  {
   "cell_type": "code",
   "execution_count": 37,
   "id": "f961d931",
   "metadata": {},
   "outputs": [
    {
     "name": "stderr",
     "output_type": "stream",
     "text": [
      "C:\\Users\\hp\\anaconda3\\lib\\site-packages\\seaborn\\_decorators.py:36: FutureWarning: Pass the following variable as a keyword arg: x. From version 0.12, the only valid positional argument will be `data`, and passing other arguments without an explicit keyword will result in an error or misinterpretation.\n",
      "  warnings.warn(\n"
     ]
    },
    {
     "data": {
      "image/png": "[encoded data removed]",
      "text/plain": [
       "<Figure size 1000x1000 with 1 Axes>"
      ]
     },
     "metadata": {},
     "output_type": "display_data"
    }
   ],
   "source": [
    "plt.figure(figsize=(10,10),facecolor='cyan',edgecolor='red')\n",
    "x=df['Bedrooms']\n",
    "b=sns.countplot(x,data=df,saturation=0.3)\n",
    "for bx in b.containers:\n",
    "    b.bar_label(bx)"
   ]
  },
  {
   "cell_type": "markdown",
   "id": "6bd36648",
   "metadata": {},
   "source": [
    "from this we can tell that many people want 3 bedrooms"
   ]
  },
  {
   "cell_type": "markdown",
   "id": "83e1de31",
   "metadata": {},
   "source": [
    "fireplace count"
   ]
  },
  {
   "cell_type": "code",
   "execution_count": 83,
   "id": "03ded6e0",
   "metadata": {},
   "outputs": [
    {
     "name": "stderr",
     "output_type": "stream",
     "text": [
      "C:\\Users\\hp\\anaconda3\\lib\\site-packages\\seaborn\\_decorators.py:36: FutureWarning: Pass the following variable as a keyword arg: x. From version 0.12, the only valid positional argument will be `data`, and passing other arguments without an explicit keyword will result in an error or misinterpretation.\n",
      "  warnings.warn(\n"
     ]
    },
    {
     "data": {
      "image/png": "[encoded data removed]",
      "text/plain": [
       "<Figure size 1000x1000 with 1 Axes>"
      ]
     },
     "metadata": {},
     "output_type": "display_data"
    }
   ],
   "source": [
    "plt.figure(figsize=(10,10),facecolor='green',edgecolor='red')\n",
    "sns.set_theme(style=\"darkgrid\")\n",
    "x=df['Fireplace']\n",
    "b=sns.countplot(x,data=df,saturation=0.3)\n",
    "for bx in b.containers:\n",
    "    b.bar_label(bx)"
   ]
  },
  {
   "cell_type": "code",
   "execution_count": null,
   "id": "be93e98f",
   "metadata": {},
   "outputs": [],
   "source": []
  },
  {
   "cell_type": "markdown",
   "id": "c32b43eb",
   "metadata": {},
   "source": [
    "box plot to check outliers"
   ]
  },
  {
   "cell_type": "code",
   "execution_count": 63,
   "id": "bce2de33",
   "metadata": {},
   "outputs": [
    {
     "data": {
      "text/plain": [
       "<AxesSubplot:>"
      ]
     },
     "execution_count": 63,
     "metadata": {},
     "output_type": "execute_result"
    },
    {
     "data": {
      "image/png": "[encoded data removed]",
      "text/plain": [
       "<Figure size 800x800 with 1 Axes>"
      ]
     },
     "metadata": {},
     "output_type": "display_data"
    }
   ],
   "source": [
    "plt.figure(figsize=(8,8),facecolor='grey',edgecolor='red')\n",
    "sns.boxplot(data=df)"
   ]
  },
  {
   "cell_type": "markdown",
   "id": "191381e5",
   "metadata": {},
   "source": [
    "independant and dependant variables"
   ]
  },
  {
   "cell_type": "code",
   "execution_count": 43,
   "id": "a889cd06",
   "metadata": {},
   "outputs": [],
   "source": [
    "X=df.drop('Price',axis='columns')\n",
    "y=df.Price"
   ]
  },
  {
   "cell_type": "markdown",
   "id": "0da3a0fd",
   "metadata": {},
   "source": [
    "split data into train and test data"
   ]
  },
  {
   "cell_type": "code",
   "execution_count": 44,
   "id": "ad04af2c",
   "metadata": {},
   "outputs": [],
   "source": [
    "from sklearn.model_selection import train_test_split"
   ]
  },
  {
   "cell_type": "code",
   "execution_count": 45,
   "id": "52619b52",
   "metadata": {},
   "outputs": [],
   "source": [
    " X_train, X_test, y_train, y_test = train_test_split(X,y,test_size=0.2)"
   ]
  },
  {
   "cell_type": "code",
   "execution_count": 46,
   "id": "e1eb1060",
   "metadata": {},
   "outputs": [
    {
     "data": {
      "text/plain": [
       "837"
      ]
     },
     "execution_count": 46,
     "metadata": {},
     "output_type": "execute_result"
    }
   ],
   "source": [
    "len(X_train)"
   ]
  },
  {
   "cell_type": "code",
   "execution_count": 47,
   "id": "eebf3157",
   "metadata": {},
   "outputs": [
    {
     "data": {
      "text/plain": [
       "210"
      ]
     },
     "execution_count": 47,
     "metadata": {},
     "output_type": "execute_result"
    }
   ],
   "source": [
    "len(X_test)"
   ]
  },
  {
   "cell_type": "markdown",
   "id": "624fc0fb",
   "metadata": {},
   "source": [
    "machine learning model"
   ]
  },
  {
   "cell_type": "code",
   "execution_count": 48,
   "id": "a5a5982a",
   "metadata": {},
   "outputs": [],
   "source": [
    "from sklearn.linear_model import LinearRegression"
   ]
  },
  {
   "cell_type": "code",
   "execution_count": 64,
   "id": "6ec6fe24",
   "metadata": {},
   "outputs": [
    {
     "data": {
      "text/plain": [
       "LinearRegression()"
      ]
     },
     "execution_count": 64,
     "metadata": {},
     "output_type": "execute_result"
    }
   ],
   "source": [
    "model=LinearRegression()\n",
    "model.fit(X_train,y_train)"
   ]
  },
  {
   "cell_type": "code",
   "execution_count": 76,
   "id": "1c03d0ac",
   "metadata": {},
   "outputs": [
    {
     "data": {
      "text/plain": [
       "array([16.37434181, 26.09409161,  9.97218321, 20.34804472, 23.21470562,\n",
       "       14.67766605, 16.45659282, 10.95747108,  9.5454653 , 22.42509222,\n",
       "       19.19019014, 19.58141901, 13.03064904, 10.09005203, 25.29766778,\n",
       "       23.07019094, 11.95635144,  9.68486693, 13.06477342, 11.27821365,\n",
       "       25.28641833, 13.55671022, 11.57222769, 14.67507513, 14.77605442,\n",
       "       17.51172982, 11.78286215, 10.74291957, 14.44835172,  6.94360057,\n",
       "       13.01153072, 11.78985057, 13.00703588, 14.67609554,  9.71949485,\n",
       "       21.28201043, 15.5381692 ,  9.45148301, 10.31024827, 12.95178404,\n",
       "       11.24063105, 20.1286348 , 14.14428187, 23.82154596, 15.77475564,\n",
       "       28.71058017, 10.0145917 , 24.90303706, 18.35179907, 11.73792609,\n",
       "       20.6328893 , 13.20751584, 10.29000219, 19.70305982, 17.98184792,\n",
       "       15.37315356, 14.25975487, 10.58400938, 16.44967346, 15.24116097,\n",
       "       27.58784301, 21.43182987, 18.05650826, 15.02661178, 15.50713476,\n",
       "        8.63998337,  7.4588692 , 20.3798922 , 29.59142249, 11.10679315,\n",
       "       13.69537763, 13.33801974, 20.26349088, 11.99689329,  8.52572748,\n",
       "       18.80936217, 22.00336883, 20.42100641, 13.50622023, 12.53670752,\n",
       "        8.44638284, 15.96068306, 10.76582275, 29.51906798, 24.0226607 ,\n",
       "       21.8305638 , 14.82059124, 13.03518906, 21.66470512, 19.1364658 ,\n",
       "       22.12873312, 13.83954121,  9.97813337, 25.05619641,  4.75884058,\n",
       "       17.00175411, 10.17952312, 17.03160223, 15.20033882, 23.46610243,\n",
       "       24.19147393, 24.24596224, 16.21841633, 15.94486488, 13.14469468,\n",
       "       11.92430918, 14.76708372, 27.21281618, 17.33013741, 21.59233585,\n",
       "       30.44157847, 14.04840812, 20.26408642,  9.97813337, 22.41055619,\n",
       "       17.59735014, 19.37302416, 12.57824628, 23.2225166 , 21.38946076,\n",
       "       10.23920318, 16.6364536 , 10.47237578, 19.58870494, 21.10865742,\n",
       "       15.16549824, 11.30979461, 13.70112289, 24.0933051 , 22.41410025,\n",
       "       15.29367524, 16.49771453, 24.54517551, 10.93873295, 20.43060241,\n",
       "       17.69568611, 18.45409696,  7.41655868, 11.96345209, 18.09051434,\n",
       "       22.55106269, 27.29875436, 25.73975411, 20.8880678 ,  7.94023249,\n",
       "       11.9644992 , 11.16008572, 13.06882498, 19.04160798, 20.34456356,\n",
       "        8.63601423, 14.36723363, 23.27342595, 18.14220227,  9.92788132,\n",
       "       14.47418127, 17.12886056, 17.36555821, 24.01673833, 15.93900516,\n",
       "       18.78252828,  9.11263958,  9.10135075, 16.95536287, 12.91134115,\n",
       "        8.72517863, 17.44947962, 14.65262195, 15.27582038, 25.54072087,\n",
       "        9.92788132, 17.63236087, 16.42632479, 17.94435374, 13.88633927,\n",
       "       13.29235048, 11.85330615,  9.48616256, 12.50169693, 18.81677829,\n",
       "       23.49433654, 22.56805006, 13.26315862, 13.69197498,  8.72460483,\n",
       "       21.91326662, 10.45715705, 10.23436664, 14.03966239, 17.5685188 ,\n",
       "       13.80192444, 21.73552257, 13.62703475, 13.11260633, 11.35820319,\n",
       "       21.74383407, 23.88165251, 10.26781037, 25.82018158, 18.20876103,\n",
       "       16.11896165, 25.37232036, 17.5397074 , 18.54390545, 16.10874856,\n",
       "       19.55005004,  6.22353776, 13.67479309, 13.56496916, 21.2543803 ])"
      ]
     },
     "execution_count": 76,
     "metadata": {},
     "output_type": "execute_result"
    }
   ],
   "source": [
    "model.predict(X_test)"
   ]
  },
  {
   "cell_type": "code",
   "execution_count": 77,
   "id": "6c69ceab",
   "metadata": {},
   "outputs": [
    {
     "data": {
      "text/plain": [
       "67.55542202021878"
      ]
     },
     "execution_count": 77,
     "metadata": {},
     "output_type": "execute_result"
    }
   ],
   "source": [
    "model.score(X_test,y_test)*100"
   ]
  },
  {
   "cell_type": "code",
   "execution_count": null,
   "id": "041c488b",
   "metadata": {},
   "outputs": [],
   "source": []
  }
 ],
 "metadata": {
  "kernelspec": {
   "display_name": "Python 3 (ipykernel)",
   "language": "python",
   "name": "python3"
  },
  "language_info": {
   "codemirror_mode": {
    "name": "ipython",
    "version": 3
   },
   "file_extension": ".py",
   "mimetype": "text/x-python",
   "name": "python",
   "nbconvert_exporter": "python",
   "pygments_lexer": "ipython3",
   "version": "3.9.13"
  }
 },
 "nbformat": 4,
 "nbformat_minor": 5
}
